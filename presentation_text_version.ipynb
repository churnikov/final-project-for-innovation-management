{
 "cells": [
  {
   "cell_type": "code",
   "execution_count": 18,
   "metadata": {},
   "outputs": [
    {
     "data": {
      "text/html": [
       "<script type=\"text/javascript\">window.PlotlyConfig = {MathJaxConfig: 'local'};</script><script type=\"text/javascript\">if (window.MathJax) {MathJax.Hub.Config({SVG: {font: \"STIX-Web\"}});}</script><script>requirejs.config({paths: { 'plotly': ['https://cdn.plot.ly/plotly-latest.min']},});if(!window._Plotly) {require(['plotly'],function(plotly) {window._Plotly=plotly;});}</script>"
      ],
      "text/vnd.plotly.v1+html": [
       "<script type=\"text/javascript\">window.PlotlyConfig = {MathJaxConfig: 'local'};</script><script type=\"text/javascript\">if (window.MathJax) {MathJax.Hub.Config({SVG: {font: \"STIX-Web\"}});}</script><script>requirejs.config({paths: { 'plotly': ['https://cdn.plot.ly/plotly-latest.min']},});if(!window._Plotly) {require(['plotly'],function(plotly) {window._Plotly=plotly;});}</script>"
      ]
     },
     "metadata": {},
     "output_type": "display_data"
    },
    {
     "data": {
      "application/vnd.plotly.v1+json": {
       "config": {
        "linkText": "Export to plot.ly",
        "plotlyServerURL": "https://plot.ly",
        "showLink": false
       },
       "data": [
        {
         "mode": "markers",
         "text": [
          "Провал ииновации ->\nподрыв доверия к руководству"
         ],
         "type": "scatter",
         "uid": "b04f5b0a-d39d-464c-9c75-188ae45aa362",
         "x": [
          3
         ],
         "y": [
          0.2
         ]
        },
        {
         "mode": "markers",
         "text": [
          "Пустая трата денег"
         ],
         "type": "scatter",
         "uid": "f6a2f6a8-646e-4a5a-8e96-570f0893d64e",
         "x": [
          3
         ],
         "y": [
          0.2
         ]
        },
        {
         "mode": "markers",
         "text": [
          "Отток сотрудников\nпосле повышени\nквалификации"
         ],
         "type": "scatter",
         "uid": "53780108-0054-4c0d-a8f6-1bacaee2cbc0",
         "x": [
          3
         ],
         "y": [
          0.4
         ]
        },
        {
         "mode": "markers",
         "text": [
          "Отток сотрудников\nиз-за непринятия\nсистемы"
         ],
         "type": "scatter",
         "uid": "f403e146-7b5a-467c-9485-4c12330d4ff8",
         "x": [
          3
         ],
         "y": [
          0.2
         ]
        },
        {
         "mode": "markers",
         "text": [
          "Проблемы с РКН, если\nпольоваться запрещенными\nресурсами"
         ],
         "type": "scatter",
         "uid": "118df2bc-704b-4897-a91a-eb2d40f32bd3",
         "x": [
          3
         ],
         "y": [
          0.1
         ]
        },
        {
         "mode": "markers",
         "text": [
          "Отток роботодателей\nот того, что им не\nпонравилась новая система"
         ],
         "type": "scatter",
         "uid": "2447bc5d-e75b-4545-9d14-27b9e80dc844",
         "x": [
          2
         ],
         "y": [
          0.01
         ]
        },
        {
         "mode": "markers",
         "text": [
          "В случае найма сотрудников,\nотсутвие требуемых компетенций"
         ],
         "type": "scatter",
         "uid": "fec313be-76ba-49f2-b8cd-d14dc0aed90b",
         "x": [
          2
         ],
         "y": [
          0.4
         ]
        },
        {
         "mode": "markers",
         "text": [
          "Халатное отношение старых\nсотрудников к инновации"
         ],
         "type": "scatter",
         "uid": "75a87963-8b64-4191-9506-46cdd831dc20",
         "x": [
          3
         ],
         "y": [
          0.6
         ]
        }
       ],
       "layout": {
        "title": {
         "text": "Риски"
        }
       }
      },
      "text/html": [
       "<div id=\"8007c384-ff35-4ebf-be15-2bcfb2000f0a\" style=\"height: 525px; width: 100%;\" class=\"plotly-graph-div\"></div><script type=\"text/javascript\">require([\"plotly\"], function(Plotly) { window.PLOTLYENV=window.PLOTLYENV || {};window.PLOTLYENV.BASE_URL=\"https://plot.ly\";\n",
       "if (document.getElementById(\"8007c384-ff35-4ebf-be15-2bcfb2000f0a\")) {\n",
       "    Plotly.newPlot(\"8007c384-ff35-4ebf-be15-2bcfb2000f0a\", [{\"mode\": \"markers\", \"text\": [\"\\u041f\\u0440\\u043e\\u0432\\u0430\\u043b \\u0438\\u0438\\u043d\\u043e\\u0432\\u0430\\u0446\\u0438\\u0438 ->\\n\\u043f\\u043e\\u0434\\u0440\\u044b\\u0432 \\u0434\\u043e\\u0432\\u0435\\u0440\\u0438\\u044f \\u043a \\u0440\\u0443\\u043a\\u043e\\u0432\\u043e\\u0434\\u0441\\u0442\\u0432\\u0443\"], \"x\": [3], \"y\": [0.2], \"type\": \"scatter\", \"uid\": \"c9099d6b-9475-4e20-910b-39222dd34020\"}, {\"mode\": \"markers\", \"text\": [\"\\u041f\\u0443\\u0441\\u0442\\u0430\\u044f \\u0442\\u0440\\u0430\\u0442\\u0430 \\u0434\\u0435\\u043d\\u0435\\u0433\"], \"x\": [3], \"y\": [0.2], \"type\": \"scatter\", \"uid\": \"43d08ed1-e332-4e3e-a5b9-5aec92203701\"}, {\"mode\": \"markers\", \"text\": [\"\\u041e\\u0442\\u0442\\u043e\\u043a \\u0441\\u043e\\u0442\\u0440\\u0443\\u0434\\u043d\\u0438\\u043a\\u043e\\u0432\\n\\u043f\\u043e\\u0441\\u043b\\u0435 \\u043f\\u043e\\u0432\\u044b\\u0448\\u0435\\u043d\\u0438\\n\\u043a\\u0432\\u0430\\u043b\\u0438\\u0444\\u0438\\u043a\\u0430\\u0446\\u0438\\u0438\"], \"x\": [3], \"y\": [0.4], \"type\": \"scatter\", \"uid\": \"50d7f0a6-6f34-4f36-b735-4b10e83facd1\"}, {\"mode\": \"markers\", \"text\": [\"\\u041e\\u0442\\u0442\\u043e\\u043a \\u0441\\u043e\\u0442\\u0440\\u0443\\u0434\\u043d\\u0438\\u043a\\u043e\\u0432\\n\\u0438\\u0437-\\u0437\\u0430 \\u043d\\u0435\\u043f\\u0440\\u0438\\u043d\\u044f\\u0442\\u0438\\u044f\\n\\u0441\\u0438\\u0441\\u0442\\u0435\\u043c\\u044b\"], \"x\": [3], \"y\": [0.2], \"type\": \"scatter\", \"uid\": \"4ed80d71-324f-4d5d-b640-bcc12338f221\"}, {\"mode\": \"markers\", \"text\": [\"\\u041f\\u0440\\u043e\\u0431\\u043b\\u0435\\u043c\\u044b \\u0441 \\u0420\\u041a\\u041d, \\u0435\\u0441\\u043b\\u0438\\n\\u043f\\u043e\\u043b\\u044c\\u043e\\u0432\\u0430\\u0442\\u044c\\u0441\\u044f \\u0437\\u0430\\u043f\\u0440\\u0435\\u0449\\u0435\\u043d\\u043d\\u044b\\u043c\\u0438\\n\\u0440\\u0435\\u0441\\u0443\\u0440\\u0441\\u0430\\u043c\\u0438\"], \"x\": [3], \"y\": [0.1], \"type\": \"scatter\", \"uid\": \"de55c64d-94a0-40fd-9e86-dc50dedceefe\"}, {\"mode\": \"markers\", \"text\": [\"\\u041e\\u0442\\u0442\\u043e\\u043a \\u0440\\u043e\\u0431\\u043e\\u0442\\u043e\\u0434\\u0430\\u0442\\u0435\\u043b\\u0435\\u0439\\n\\u043e\\u0442 \\u0442\\u043e\\u0433\\u043e, \\u0447\\u0442\\u043e \\u0438\\u043c \\u043d\\u0435\\n\\u043f\\u043e\\u043d\\u0440\\u0430\\u0432\\u0438\\u043b\\u0430\\u0441\\u044c \\u043d\\u043e\\u0432\\u0430\\u044f \\u0441\\u0438\\u0441\\u0442\\u0435\\u043c\\u0430\"], \"x\": [2], \"y\": [0.01], \"type\": \"scatter\", \"uid\": \"160fac6f-d308-4ce5-b8a2-6ee7104921c8\"}, {\"mode\": \"markers\", \"text\": [\"\\u0412 \\u0441\\u043b\\u0443\\u0447\\u0430\\u0435 \\u043d\\u0430\\u0439\\u043c\\u0430 \\u0441\\u043e\\u0442\\u0440\\u0443\\u0434\\u043d\\u0438\\u043a\\u043e\\u0432,\\n\\u043e\\u0442\\u0441\\u0443\\u0442\\u0432\\u0438\\u0435 \\u0442\\u0440\\u0435\\u0431\\u0443\\u0435\\u043c\\u044b\\u0445 \\u043a\\u043e\\u043c\\u043f\\u0435\\u0442\\u0435\\u043d\\u0446\\u0438\\u0439\"], \"x\": [2], \"y\": [0.4], \"type\": \"scatter\", \"uid\": \"58d73ca7-355e-44a2-b049-af2726630afa\"}, {\"mode\": \"markers\", \"text\": [\"\\u0425\\u0430\\u043b\\u0430\\u0442\\u043d\\u043e\\u0435 \\u043e\\u0442\\u043d\\u043e\\u0448\\u0435\\u043d\\u0438\\u0435 \\u0441\\u0442\\u0430\\u0440\\u044b\\u0445\\n\\u0441\\u043e\\u0442\\u0440\\u0443\\u0434\\u043d\\u0438\\u043a\\u043e\\u0432 \\u043a \\u0438\\u043d\\u043d\\u043e\\u0432\\u0430\\u0446\\u0438\\u0438\"], \"x\": [3], \"y\": [0.6], \"type\": \"scatter\", \"uid\": \"7bd5e961-b41a-4502-aaa5-414ee2d14f4f\"}], {\"title\": {\"text\": \"\\u0420\\u0438\\u0441\\u043a\\u0438\"}}, {\"showLink\": false, \"linkText\": \"Export to plot.ly\", \"plotlyServerURL\": \"https://plot.ly\"}); \n",
       "}\n",
       "});</script><script type=\"text/javascript\">window.addEventListener(\"resize\", function(){if (document.getElementById(\"8007c384-ff35-4ebf-be15-2bcfb2000f0a\")) {window._Plotly.Plots.resize(document.getElementById(\"8007c384-ff35-4ebf-be15-2bcfb2000f0a\"));};})</script>"
      ],
      "text/vnd.plotly.v1+html": [
       "<div id=\"8007c384-ff35-4ebf-be15-2bcfb2000f0a\" style=\"height: 525px; width: 100%;\" class=\"plotly-graph-div\"></div><script type=\"text/javascript\">require([\"plotly\"], function(Plotly) { window.PLOTLYENV=window.PLOTLYENV || {};window.PLOTLYENV.BASE_URL=\"https://plot.ly\";\n",
       "if (document.getElementById(\"8007c384-ff35-4ebf-be15-2bcfb2000f0a\")) {\n",
       "    Plotly.newPlot(\"8007c384-ff35-4ebf-be15-2bcfb2000f0a\", [{\"mode\": \"markers\", \"text\": [\"\\u041f\\u0440\\u043e\\u0432\\u0430\\u043b \\u0438\\u0438\\u043d\\u043e\\u0432\\u0430\\u0446\\u0438\\u0438 ->\\n\\u043f\\u043e\\u0434\\u0440\\u044b\\u0432 \\u0434\\u043e\\u0432\\u0435\\u0440\\u0438\\u044f \\u043a \\u0440\\u0443\\u043a\\u043e\\u0432\\u043e\\u0434\\u0441\\u0442\\u0432\\u0443\"], \"x\": [3], \"y\": [0.2], \"type\": \"scatter\", \"uid\": \"c9099d6b-9475-4e20-910b-39222dd34020\"}, {\"mode\": \"markers\", \"text\": [\"\\u041f\\u0443\\u0441\\u0442\\u0430\\u044f \\u0442\\u0440\\u0430\\u0442\\u0430 \\u0434\\u0435\\u043d\\u0435\\u0433\"], \"x\": [3], \"y\": [0.2], \"type\": \"scatter\", \"uid\": \"43d08ed1-e332-4e3e-a5b9-5aec92203701\"}, {\"mode\": \"markers\", \"text\": [\"\\u041e\\u0442\\u0442\\u043e\\u043a \\u0441\\u043e\\u0442\\u0440\\u0443\\u0434\\u043d\\u0438\\u043a\\u043e\\u0432\\n\\u043f\\u043e\\u0441\\u043b\\u0435 \\u043f\\u043e\\u0432\\u044b\\u0448\\u0435\\u043d\\u0438\\n\\u043a\\u0432\\u0430\\u043b\\u0438\\u0444\\u0438\\u043a\\u0430\\u0446\\u0438\\u0438\"], \"x\": [3], \"y\": [0.4], \"type\": \"scatter\", \"uid\": \"50d7f0a6-6f34-4f36-b735-4b10e83facd1\"}, {\"mode\": \"markers\", \"text\": [\"\\u041e\\u0442\\u0442\\u043e\\u043a \\u0441\\u043e\\u0442\\u0440\\u0443\\u0434\\u043d\\u0438\\u043a\\u043e\\u0432\\n\\u0438\\u0437-\\u0437\\u0430 \\u043d\\u0435\\u043f\\u0440\\u0438\\u043d\\u044f\\u0442\\u0438\\u044f\\n\\u0441\\u0438\\u0441\\u0442\\u0435\\u043c\\u044b\"], \"x\": [3], \"y\": [0.2], \"type\": \"scatter\", \"uid\": \"4ed80d71-324f-4d5d-b640-bcc12338f221\"}, {\"mode\": \"markers\", \"text\": [\"\\u041f\\u0440\\u043e\\u0431\\u043b\\u0435\\u043c\\u044b \\u0441 \\u0420\\u041a\\u041d, \\u0435\\u0441\\u043b\\u0438\\n\\u043f\\u043e\\u043b\\u044c\\u043e\\u0432\\u0430\\u0442\\u044c\\u0441\\u044f \\u0437\\u0430\\u043f\\u0440\\u0435\\u0449\\u0435\\u043d\\u043d\\u044b\\u043c\\u0438\\n\\u0440\\u0435\\u0441\\u0443\\u0440\\u0441\\u0430\\u043c\\u0438\"], \"x\": [3], \"y\": [0.1], \"type\": \"scatter\", \"uid\": \"de55c64d-94a0-40fd-9e86-dc50dedceefe\"}, {\"mode\": \"markers\", \"text\": [\"\\u041e\\u0442\\u0442\\u043e\\u043a \\u0440\\u043e\\u0431\\u043e\\u0442\\u043e\\u0434\\u0430\\u0442\\u0435\\u043b\\u0435\\u0439\\n\\u043e\\u0442 \\u0442\\u043e\\u0433\\u043e, \\u0447\\u0442\\u043e \\u0438\\u043c \\u043d\\u0435\\n\\u043f\\u043e\\u043d\\u0440\\u0430\\u0432\\u0438\\u043b\\u0430\\u0441\\u044c \\u043d\\u043e\\u0432\\u0430\\u044f \\u0441\\u0438\\u0441\\u0442\\u0435\\u043c\\u0430\"], \"x\": [2], \"y\": [0.01], \"type\": \"scatter\", \"uid\": \"160fac6f-d308-4ce5-b8a2-6ee7104921c8\"}, {\"mode\": \"markers\", \"text\": [\"\\u0412 \\u0441\\u043b\\u0443\\u0447\\u0430\\u0435 \\u043d\\u0430\\u0439\\u043c\\u0430 \\u0441\\u043e\\u0442\\u0440\\u0443\\u0434\\u043d\\u0438\\u043a\\u043e\\u0432,\\n\\u043e\\u0442\\u0441\\u0443\\u0442\\u0432\\u0438\\u0435 \\u0442\\u0440\\u0435\\u0431\\u0443\\u0435\\u043c\\u044b\\u0445 \\u043a\\u043e\\u043c\\u043f\\u0435\\u0442\\u0435\\u043d\\u0446\\u0438\\u0439\"], \"x\": [2], \"y\": [0.4], \"type\": \"scatter\", \"uid\": \"58d73ca7-355e-44a2-b049-af2726630afa\"}, {\"mode\": \"markers\", \"text\": [\"\\u0425\\u0430\\u043b\\u0430\\u0442\\u043d\\u043e\\u0435 \\u043e\\u0442\\u043d\\u043e\\u0448\\u0435\\u043d\\u0438\\u0435 \\u0441\\u0442\\u0430\\u0440\\u044b\\u0445\\n\\u0441\\u043e\\u0442\\u0440\\u0443\\u0434\\u043d\\u0438\\u043a\\u043e\\u0432 \\u043a \\u0438\\u043d\\u043d\\u043e\\u0432\\u0430\\u0446\\u0438\\u0438\"], \"x\": [3], \"y\": [0.6], \"type\": \"scatter\", \"uid\": \"7bd5e961-b41a-4502-aaa5-414ee2d14f4f\"}], {\"title\": {\"text\": \"\\u0420\\u0438\\u0441\\u043a\\u0438\"}}, {\"showLink\": false, \"linkText\": \"Export to plot.ly\", \"plotlyServerURL\": \"https://plot.ly\"}); \n",
       "}\n",
       "});</script><script type=\"text/javascript\">window.addEventListener(\"resize\", function(){if (document.getElementById(\"8007c384-ff35-4ebf-be15-2bcfb2000f0a\")) {window._Plotly.Plots.resize(document.getElementById(\"8007c384-ff35-4ebf-be15-2bcfb2000f0a\"));};})</script>"
      ]
     },
     "metadata": {},
     "output_type": "display_data"
    }
   ],
   "source": [
    "%run plot.py"
   ]
  },
  {
   "cell_type": "code",
   "execution_count": null,
   "metadata": {},
   "outputs": [],
   "source": []
  }
 ],
 "metadata": {
  "kernelspec": {
   "display_name": "Python 3",
   "language": "python",
   "name": "python3"
  },
  "language_info": {
   "codemirror_mode": {
    "name": "ipython",
    "version": 3
   },
   "file_extension": ".py",
   "mimetype": "text/x-python",
   "name": "python",
   "nbconvert_exporter": "python",
   "pygments_lexer": "ipython3",
   "version": "3.7.0"
  }
 },
 "nbformat": 4,
 "nbformat_minor": 2
}
