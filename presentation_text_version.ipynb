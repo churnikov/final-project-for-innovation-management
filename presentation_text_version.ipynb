{
 "cells": [
  {
   "cell_type": "code",
   "execution_count": 14,
   "metadata": {},
   "outputs": [
    {
     "data": {
      "text/html": [
       "<script type=\"text/javascript\">window.PlotlyConfig = {MathJaxConfig: 'local'};</script><script type=\"text/javascript\">if (window.MathJax) {MathJax.Hub.Config({SVG: {font: \"STIX-Web\"}});}</script><script>requirejs.config({paths: { 'plotly': ['https://cdn.plot.ly/plotly-latest.min']},});if(!window._Plotly) {require(['plotly'],function(plotly) {window._Plotly=plotly;});}</script>"
      ],
      "text/vnd.plotly.v1+html": [
       "<script type=\"text/javascript\">window.PlotlyConfig = {MathJaxConfig: 'local'};</script><script type=\"text/javascript\">if (window.MathJax) {MathJax.Hub.Config({SVG: {font: \"STIX-Web\"}});}</script><script>requirejs.config({paths: { 'plotly': ['https://cdn.plot.ly/plotly-latest.min']},});if(!window._Plotly) {require(['plotly'],function(plotly) {window._Plotly=plotly;});}</script>"
      ]
     },
     "metadata": {},
     "output_type": "display_data"
    },
    {
     "data": {
      "application/vnd.plotly.v1+json": {
       "config": {
        "linkText": "Export to plot.ly",
        "plotlyServerURL": "https://plot.ly",
        "showLink": false
       },
       "data": [
        {
         "mode": "markers",
         "text": [
          "Провал ииновации ->\nподрыв доверия к руководству",
          "Пустая трата денег",
          "Отток сотрудников\nпосле повышени\nквалификации",
          "Отток сотрудников\nиз-за непринятия\nсистемы",
          "Проблемы с РКН, если\nпольоваться запрещенными\nресурсами",
          "Отток роботодателей\nот того, что им не\nпонравилась новая система",
          "В случае найма сотрудников,\nотсутвие требуемых компетенций",
          "Халатное отношение старых\nсотрудников к инновации"
         ],
         "type": "scatter",
         "uid": "7f8a54e0-a0d0-4826-96b9-1ccb71ed9b10",
         "x": [
          3,
          3,
          3,
          3,
          3,
          2,
          2,
          3
         ],
         "y": [
          0.2,
          0.2,
          0.4,
          0.2,
          0.1,
          0.01,
          0.4,
          0.6
         ]
        }
       ],
       "layout": {
        "title": {
         "text": "Риски"
        }
       }
      },
      "text/html": [
       "<div id=\"1ecb41e0-354e-455c-928d-d2e419508508\" style=\"height: 525px; width: 100%;\" class=\"plotly-graph-div\"></div><script type=\"text/javascript\">require([\"plotly\"], function(Plotly) { window.PLOTLYENV=window.PLOTLYENV || {};window.PLOTLYENV.BASE_URL=\"https://plot.ly\";\n",
       "if (document.getElementById(\"1ecb41e0-354e-455c-928d-d2e419508508\")) {\n",
       "    Plotly.newPlot(\"1ecb41e0-354e-455c-928d-d2e419508508\", [{\"mode\": \"markers\", \"text\": [\"\\u041f\\u0440\\u043e\\u0432\\u0430\\u043b \\u0438\\u0438\\u043d\\u043e\\u0432\\u0430\\u0446\\u0438\\u0438 ->\\n\\u043f\\u043e\\u0434\\u0440\\u044b\\u0432 \\u0434\\u043e\\u0432\\u0435\\u0440\\u0438\\u044f \\u043a \\u0440\\u0443\\u043a\\u043e\\u0432\\u043e\\u0434\\u0441\\u0442\\u0432\\u0443\", \"\\u041f\\u0443\\u0441\\u0442\\u0430\\u044f \\u0442\\u0440\\u0430\\u0442\\u0430 \\u0434\\u0435\\u043d\\u0435\\u0433\", \"\\u041e\\u0442\\u0442\\u043e\\u043a \\u0441\\u043e\\u0442\\u0440\\u0443\\u0434\\u043d\\u0438\\u043a\\u043e\\u0432\\n\\u043f\\u043e\\u0441\\u043b\\u0435 \\u043f\\u043e\\u0432\\u044b\\u0448\\u0435\\u043d\\u0438\\n\\u043a\\u0432\\u0430\\u043b\\u0438\\u0444\\u0438\\u043a\\u0430\\u0446\\u0438\\u0438\", \"\\u041e\\u0442\\u0442\\u043e\\u043a \\u0441\\u043e\\u0442\\u0440\\u0443\\u0434\\u043d\\u0438\\u043a\\u043e\\u0432\\n\\u0438\\u0437-\\u0437\\u0430 \\u043d\\u0435\\u043f\\u0440\\u0438\\u043d\\u044f\\u0442\\u0438\\u044f\\n\\u0441\\u0438\\u0441\\u0442\\u0435\\u043c\\u044b\", \"\\u041f\\u0440\\u043e\\u0431\\u043b\\u0435\\u043c\\u044b \\u0441 \\u0420\\u041a\\u041d, \\u0435\\u0441\\u043b\\u0438\\n\\u043f\\u043e\\u043b\\u044c\\u043e\\u0432\\u0430\\u0442\\u044c\\u0441\\u044f \\u0437\\u0430\\u043f\\u0440\\u0435\\u0449\\u0435\\u043d\\u043d\\u044b\\u043c\\u0438\\n\\u0440\\u0435\\u0441\\u0443\\u0440\\u0441\\u0430\\u043c\\u0438\", \"\\u041e\\u0442\\u0442\\u043e\\u043a \\u0440\\u043e\\u0431\\u043e\\u0442\\u043e\\u0434\\u0430\\u0442\\u0435\\u043b\\u0435\\u0439\\n\\u043e\\u0442 \\u0442\\u043e\\u0433\\u043e, \\u0447\\u0442\\u043e \\u0438\\u043c \\u043d\\u0435\\n\\u043f\\u043e\\u043d\\u0440\\u0430\\u0432\\u0438\\u043b\\u0430\\u0441\\u044c \\u043d\\u043e\\u0432\\u0430\\u044f \\u0441\\u0438\\u0441\\u0442\\u0435\\u043c\\u0430\", \"\\u0412 \\u0441\\u043b\\u0443\\u0447\\u0430\\u0435 \\u043d\\u0430\\u0439\\u043c\\u0430 \\u0441\\u043e\\u0442\\u0440\\u0443\\u0434\\u043d\\u0438\\u043a\\u043e\\u0432,\\n\\u043e\\u0442\\u0441\\u0443\\u0442\\u0432\\u0438\\u0435 \\u0442\\u0440\\u0435\\u0431\\u0443\\u0435\\u043c\\u044b\\u0445 \\u043a\\u043e\\u043c\\u043f\\u0435\\u0442\\u0435\\u043d\\u0446\\u0438\\u0439\", \"\\u0425\\u0430\\u043b\\u0430\\u0442\\u043d\\u043e\\u0435 \\u043e\\u0442\\u043d\\u043e\\u0448\\u0435\\u043d\\u0438\\u0435 \\u0441\\u0442\\u0430\\u0440\\u044b\\u0445\\n\\u0441\\u043e\\u0442\\u0440\\u0443\\u0434\\u043d\\u0438\\u043a\\u043e\\u0432 \\u043a \\u0438\\u043d\\u043d\\u043e\\u0432\\u0430\\u0446\\u0438\\u0438\"], \"x\": [3, 3, 3, 3, 3, 2, 2, 3], \"y\": [0.2, 0.2, 0.4, 0.2, 0.1, 0.01, 0.4, 0.6], \"type\": \"scatter\", \"uid\": \"48c99f64-95cc-401d-baaf-4a0582ca69f9\"}], {\"title\": {\"text\": \"\\u0420\\u0438\\u0441\\u043a\\u0438\"}}, {\"showLink\": false, \"linkText\": \"Export to plot.ly\", \"plotlyServerURL\": \"https://plot.ly\"}); \n",
       "}\n",
       "});</script><script type=\"text/javascript\">window.addEventListener(\"resize\", function(){if (document.getElementById(\"1ecb41e0-354e-455c-928d-d2e419508508\")) {window._Plotly.Plots.resize(document.getElementById(\"1ecb41e0-354e-455c-928d-d2e419508508\"));};})</script>"
      ],
      "text/vnd.plotly.v1+html": [
       "<div id=\"1ecb41e0-354e-455c-928d-d2e419508508\" style=\"height: 525px; width: 100%;\" class=\"plotly-graph-div\"></div><script type=\"text/javascript\">require([\"plotly\"], function(Plotly) { window.PLOTLYENV=window.PLOTLYENV || {};window.PLOTLYENV.BASE_URL=\"https://plot.ly\";\n",
       "if (document.getElementById(\"1ecb41e0-354e-455c-928d-d2e419508508\")) {\n",
       "    Plotly.newPlot(\"1ecb41e0-354e-455c-928d-d2e419508508\", [{\"mode\": \"markers\", \"text\": [\"\\u041f\\u0440\\u043e\\u0432\\u0430\\u043b \\u0438\\u0438\\u043d\\u043e\\u0432\\u0430\\u0446\\u0438\\u0438 ->\\n\\u043f\\u043e\\u0434\\u0440\\u044b\\u0432 \\u0434\\u043e\\u0432\\u0435\\u0440\\u0438\\u044f \\u043a \\u0440\\u0443\\u043a\\u043e\\u0432\\u043e\\u0434\\u0441\\u0442\\u0432\\u0443\", \"\\u041f\\u0443\\u0441\\u0442\\u0430\\u044f \\u0442\\u0440\\u0430\\u0442\\u0430 \\u0434\\u0435\\u043d\\u0435\\u0433\", \"\\u041e\\u0442\\u0442\\u043e\\u043a \\u0441\\u043e\\u0442\\u0440\\u0443\\u0434\\u043d\\u0438\\u043a\\u043e\\u0432\\n\\u043f\\u043e\\u0441\\u043b\\u0435 \\u043f\\u043e\\u0432\\u044b\\u0448\\u0435\\u043d\\u0438\\n\\u043a\\u0432\\u0430\\u043b\\u0438\\u0444\\u0438\\u043a\\u0430\\u0446\\u0438\\u0438\", \"\\u041e\\u0442\\u0442\\u043e\\u043a \\u0441\\u043e\\u0442\\u0440\\u0443\\u0434\\u043d\\u0438\\u043a\\u043e\\u0432\\n\\u0438\\u0437-\\u0437\\u0430 \\u043d\\u0435\\u043f\\u0440\\u0438\\u043d\\u044f\\u0442\\u0438\\u044f\\n\\u0441\\u0438\\u0441\\u0442\\u0435\\u043c\\u044b\", \"\\u041f\\u0440\\u043e\\u0431\\u043b\\u0435\\u043c\\u044b \\u0441 \\u0420\\u041a\\u041d, \\u0435\\u0441\\u043b\\u0438\\n\\u043f\\u043e\\u043b\\u044c\\u043e\\u0432\\u0430\\u0442\\u044c\\u0441\\u044f \\u0437\\u0430\\u043f\\u0440\\u0435\\u0449\\u0435\\u043d\\u043d\\u044b\\u043c\\u0438\\n\\u0440\\u0435\\u0441\\u0443\\u0440\\u0441\\u0430\\u043c\\u0438\", \"\\u041e\\u0442\\u0442\\u043e\\u043a \\u0440\\u043e\\u0431\\u043e\\u0442\\u043e\\u0434\\u0430\\u0442\\u0435\\u043b\\u0435\\u0439\\n\\u043e\\u0442 \\u0442\\u043e\\u0433\\u043e, \\u0447\\u0442\\u043e \\u0438\\u043c \\u043d\\u0435\\n\\u043f\\u043e\\u043d\\u0440\\u0430\\u0432\\u0438\\u043b\\u0430\\u0441\\u044c \\u043d\\u043e\\u0432\\u0430\\u044f \\u0441\\u0438\\u0441\\u0442\\u0435\\u043c\\u0430\", \"\\u0412 \\u0441\\u043b\\u0443\\u0447\\u0430\\u0435 \\u043d\\u0430\\u0439\\u043c\\u0430 \\u0441\\u043e\\u0442\\u0440\\u0443\\u0434\\u043d\\u0438\\u043a\\u043e\\u0432,\\n\\u043e\\u0442\\u0441\\u0443\\u0442\\u0432\\u0438\\u0435 \\u0442\\u0440\\u0435\\u0431\\u0443\\u0435\\u043c\\u044b\\u0445 \\u043a\\u043e\\u043c\\u043f\\u0435\\u0442\\u0435\\u043d\\u0446\\u0438\\u0439\", \"\\u0425\\u0430\\u043b\\u0430\\u0442\\u043d\\u043e\\u0435 \\u043e\\u0442\\u043d\\u043e\\u0448\\u0435\\u043d\\u0438\\u0435 \\u0441\\u0442\\u0430\\u0440\\u044b\\u0445\\n\\u0441\\u043e\\u0442\\u0440\\u0443\\u0434\\u043d\\u0438\\u043a\\u043e\\u0432 \\u043a \\u0438\\u043d\\u043d\\u043e\\u0432\\u0430\\u0446\\u0438\\u0438\"], \"x\": [3, 3, 3, 3, 3, 2, 2, 3], \"y\": [0.2, 0.2, 0.4, 0.2, 0.1, 0.01, 0.4, 0.6], \"type\": \"scatter\", \"uid\": \"48c99f64-95cc-401d-baaf-4a0582ca69f9\"}], {\"title\": {\"text\": \"\\u0420\\u0438\\u0441\\u043a\\u0438\"}}, {\"showLink\": false, \"linkText\": \"Export to plot.ly\", \"plotlyServerURL\": \"https://plot.ly\"}); \n",
       "}\n",
       "});</script><script type=\"text/javascript\">window.addEventListener(\"resize\", function(){if (document.getElementById(\"1ecb41e0-354e-455c-928d-d2e419508508\")) {window._Plotly.Plots.resize(document.getElementById(\"1ecb41e0-354e-455c-928d-d2e419508508\"));};})</script>"
      ]
     },
     "metadata": {},
     "output_type": "display_data"
    }
   ],
   "source": [
    "import pandas as pd\n",
    "import json\n",
    "import plotly.graph_objs as go\n",
    "from plotly.offline import download_plotlyjs, init_notebook_mode, plot, iplot\n",
    "plotly.offline.init_notebook_mode(connected=True)\n",
    "\n",
    "with open('dangers.json', 'r') as f:\n",
    "    jsn = json.load(f)\n",
    "\n",
    "index = []\n",
    "columns = ['Вероятность наступления', 'Сила влияния']\n",
    "values = []\n",
    "\n",
    "for k, r in jsn.items():\n",
    "    index.append(k)\n",
    "    values.append((r[columns[0]], r[columns[1]]))\n",
    "df = pd.DataFrame(data=values, index=index, columns=columns)\n",
    "\n",
    "# data = [\n",
    "#     go.Scatter(\n",
    "#         x=[x1],\n",
    "#         y=[x2],\n",
    "#         mode='markers',\n",
    "#         text=[t]\n",
    "#     )\n",
    "#     for x1, x2, t in zip(df[columns[1]].values, df[columns[0]].values, index)\n",
    "# ]\n",
    "\n",
    "data = [\n",
    "    go.Scatter(\n",
    "        x=df[columns[1]].values,\n",
    "        y=df[columns[0]].values,\n",
    "        mode='markers',\n",
    "        text=index\n",
    "    )\n",
    "]\n",
    "\n",
    "layout = go.Layout(\n",
    "    title='Риски'\n",
    ")\n",
    "\n",
    "iplot({'data': data, 'layout': layout})"
   ]
  },
  {
   "cell_type": "code",
   "execution_count": null,
   "metadata": {},
   "outputs": [],
   "source": []
  }
 ],
 "metadata": {
  "kernelspec": {
   "display_name": "Python 3",
   "language": "python",
   "name": "python3"
  },
  "language_info": {
   "codemirror_mode": {
    "name": "ipython",
    "version": 3
   },
   "file_extension": ".py",
   "mimetype": "text/x-python",
   "name": "python",
   "nbconvert_exporter": "python",
   "pygments_lexer": "ipython3",
   "version": "3.7.0"
  }
 },
 "nbformat": 4,
 "nbformat_minor": 2
}
